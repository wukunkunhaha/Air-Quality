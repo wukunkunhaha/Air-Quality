{
 "cells": [
  {
   "cell_type": "markdown",
   "metadata": {},
   "source": [
    "# Exploratory Data Analysis (EDA) for Beijing pm2.5 datasets\n",
    "\n",
    "reference: https://www.kaggle.com/stephaniestallworth/housing-feature-engineering-regression  \n",
    "http://scikit-learn.org/stable/modules/feature_selection.html#feature-selection"
   ]
  },
  {
   "cell_type": "code",
   "execution_count": 1,
   "metadata": {
    "ExecuteTime": {
     "end_time": "2018-04-20T03:04:23.171643Z",
     "start_time": "2018-04-20T03:04:21.559620Z"
    }
   },
   "outputs": [],
   "source": [
    "import pandas as pd\n",
    "import numpy as np\n",
    "import matplotlib.pyplot as plt\n",
    "plt.rcParams['figure.figsize'] = [10, 5]\n",
    "from sklearn.metrics import mean_squared_error\n",
    "import math\n",
    "from sklearn.model_selection import train_test_split\n",
    "from sklearn import linear_model\n",
    "from sklearn.ensemble import RandomForestRegressor\n",
    "from sklearn import svm\n",
    "from sklearn.preprocessing import MinMaxScaler\n",
    "import seaborn as sns"
   ]
  },
  {
   "cell_type": "code",
   "execution_count": 2,
   "metadata": {
    "ExecuteTime": {
     "end_time": "2018-04-20T03:04:23.304580Z",
     "start_time": "2018-04-20T03:04:23.266270Z"
    }
   },
   "outputs": [],
   "source": [
    "def series_to_supervised(data, n_in=1, n_out=1, dropnan=True):\n",
    "    \"\"\"\n",
    "    Frame a time series as a supervised learning dataset.\n",
    "    Arguments:\n",
    "        data: Sequence of observations as a list or NumPy array.\n",
    "        n_in: Number of lag observations as input (X).\n",
    "        n_out: Number of observations as output (y).\n",
    "        dropnan: Boolean whether or not to drop rows with NaN values.\n",
    "    Returns:\n",
    "        Pandas DataFrame of series framed for supervised learning.\n",
    "    \"\"\"\n",
    "    n_vars = 1 if type(data) is list else data.shape[1]\n",
    "    df = pd.DataFrame(data)\n",
    "    cols, names = list(), list()\n",
    "    # input sequence (t-n, ... t-1)\n",
    "    for i in range(n_in, 0, -1):\n",
    "        cols.append(df.shift(i))\n",
    "#         names += [('var%d(t-%d)' % (j+1, i)) for j in range(n_vars)]\n",
    "        names += [(var_name + '(t-%d)' % (i)) for j, var_name in enumerate(df.columns.values)]\n",
    "    # forecast sequence (t, t+1, ... t+n)\n",
    "    for i in range(0, n_out):\n",
    "        cols.append(df.shift(-i))\n",
    "        if i == 0:\n",
    "            names += [var_name + '(t)' for j, var_name in enumerate(df.columns.values)]\n",
    "        else:\n",
    "            names += [(var_name + '(t+%d)' % (i)) for j, var_name in enumerate(df.columns.values)]\n",
    "    # put it all together\n",
    "    agg = pd.concat(cols, axis=1)\n",
    "    agg.columns = names\n",
    "    # drop rows with NaN values\n",
    "    if dropnan:\n",
    "        agg.dropna(inplace=True)\n",
    "    return agg"
   ]
  },
  {
   "cell_type": "code",
   "execution_count": 3,
   "metadata": {
    "ExecuteTime": {
     "end_time": "2018-04-20T03:04:25.149070Z",
     "start_time": "2018-04-20T03:04:25.041296Z"
    }
   },
   "outputs": [
    {
     "data": {
      "text/html": [
       "<div>\n",
       "<style scoped>\n",
       "    .dataframe tbody tr th:only-of-type {\n",
       "        vertical-align: middle;\n",
       "    }\n",
       "\n",
       "    .dataframe tbody tr th {\n",
       "        vertical-align: top;\n",
       "    }\n",
       "\n",
       "    .dataframe thead th {\n",
       "        text-align: right;\n",
       "    }\n",
       "</style>\n",
       "<table border=\"1\" class=\"dataframe\">\n",
       "  <thead>\n",
       "    <tr style=\"text-align: right;\">\n",
       "      <th></th>\n",
       "      <th>pm25</th>\n",
       "      <th>t2m</th>\n",
       "      <th>d2m</th>\n",
       "      <th>u10</th>\n",
       "      <th>v10</th>\n",
       "      <th>sp</th>\n",
       "      <th>t500</th>\n",
       "      <th>t850</th>\n",
       "      <th>t1000</th>\n",
       "      <th>q500</th>\n",
       "      <th>...</th>\n",
       "      <th>q1000</th>\n",
       "      <th>u500</th>\n",
       "      <th>u850</th>\n",
       "      <th>u1000</th>\n",
       "      <th>v500</th>\n",
       "      <th>v850</th>\n",
       "      <th>v1000</th>\n",
       "      <th>w500</th>\n",
       "      <th>w850</th>\n",
       "      <th>w1000</th>\n",
       "    </tr>\n",
       "  </thead>\n",
       "  <tbody>\n",
       "    <tr>\n",
       "      <th>2016-01-01 08:00:00</th>\n",
       "      <td>106.0</td>\n",
       "      <td>266.158697</td>\n",
       "      <td>262.942797</td>\n",
       "      <td>0.610000</td>\n",
       "      <td>-0.854401</td>\n",
       "      <td>99031.629452</td>\n",
       "      <td>247.480585</td>\n",
       "      <td>273.959647</td>\n",
       "      <td>273.713458</td>\n",
       "      <td>0.000186</td>\n",
       "      <td>...</td>\n",
       "      <td>0.001782</td>\n",
       "      <td>22.726637</td>\n",
       "      <td>9.640619</td>\n",
       "      <td>1.023143</td>\n",
       "      <td>0.605482</td>\n",
       "      <td>-0.931638</td>\n",
       "      <td>-0.915407</td>\n",
       "      <td>-0.059048</td>\n",
       "      <td>0.167941</td>\n",
       "      <td>0.137051</td>\n",
       "    </tr>\n",
       "    <tr>\n",
       "      <th>2016-01-01 14:00:00</th>\n",
       "      <td>172.0</td>\n",
       "      <td>277.572013</td>\n",
       "      <td>265.854378</td>\n",
       "      <td>0.539951</td>\n",
       "      <td>0.014327</td>\n",
       "      <td>98687.355922</td>\n",
       "      <td>247.663581</td>\n",
       "      <td>275.492070</td>\n",
       "      <td>277.549782</td>\n",
       "      <td>0.000182</td>\n",
       "      <td>...</td>\n",
       "      <td>0.001889</td>\n",
       "      <td>22.448769</td>\n",
       "      <td>9.815926</td>\n",
       "      <td>0.449519</td>\n",
       "      <td>0.500462</td>\n",
       "      <td>-1.817629</td>\n",
       "      <td>0.066058</td>\n",
       "      <td>0.046678</td>\n",
       "      <td>0.081981</td>\n",
       "      <td>0.016615</td>\n",
       "    </tr>\n",
       "    <tr>\n",
       "      <th>2016-01-01 20:00:00</th>\n",
       "      <td>260.0</td>\n",
       "      <td>271.109503</td>\n",
       "      <td>266.588183</td>\n",
       "      <td>1.231592</td>\n",
       "      <td>-0.007235</td>\n",
       "      <td>98736.579464</td>\n",
       "      <td>249.138077</td>\n",
       "      <td>274.646867</td>\n",
       "      <td>279.338926</td>\n",
       "      <td>0.000219</td>\n",
       "      <td>...</td>\n",
       "      <td>0.002003</td>\n",
       "      <td>21.773777</td>\n",
       "      <td>7.522623</td>\n",
       "      <td>1.202028</td>\n",
       "      <td>-3.983918</td>\n",
       "      <td>-4.214963</td>\n",
       "      <td>0.149120</td>\n",
       "      <td>-0.120461</td>\n",
       "      <td>0.238271</td>\n",
       "      <td>0.090715</td>\n",
       "    </tr>\n",
       "    <tr>\n",
       "      <th>2016-01-02 02:00:00</th>\n",
       "      <td>306.0</td>\n",
       "      <td>266.704619</td>\n",
       "      <td>264.173029</td>\n",
       "      <td>0.891609</td>\n",
       "      <td>-1.404387</td>\n",
       "      <td>98683.278232</td>\n",
       "      <td>247.929517</td>\n",
       "      <td>274.961514</td>\n",
       "      <td>277.894709</td>\n",
       "      <td>0.000442</td>\n",
       "      <td>...</td>\n",
       "      <td>0.001956</td>\n",
       "      <td>21.577004</td>\n",
       "      <td>7.068256</td>\n",
       "      <td>1.506132</td>\n",
       "      <td>-4.629317</td>\n",
       "      <td>-2.406700</td>\n",
       "      <td>-2.123144</td>\n",
       "      <td>-0.105199</td>\n",
       "      <td>-0.051509</td>\n",
       "      <td>0.186144</td>\n",
       "    </tr>\n",
       "    <tr>\n",
       "      <th>2016-01-02 08:00:00</th>\n",
       "      <td>195.0</td>\n",
       "      <td>266.042011</td>\n",
       "      <td>262.649275</td>\n",
       "      <td>0.834297</td>\n",
       "      <td>-1.433449</td>\n",
       "      <td>98634.054690</td>\n",
       "      <td>246.955296</td>\n",
       "      <td>274.261128</td>\n",
       "      <td>276.341222</td>\n",
       "      <td>0.000588</td>\n",
       "      <td>...</td>\n",
       "      <td>0.001608</td>\n",
       "      <td>22.702786</td>\n",
       "      <td>5.349770</td>\n",
       "      <td>1.060113</td>\n",
       "      <td>-6.598931</td>\n",
       "      <td>-1.580856</td>\n",
       "      <td>-2.603374</td>\n",
       "      <td>0.018822</td>\n",
       "      <td>-0.022825</td>\n",
       "      <td>0.212162</td>\n",
       "    </tr>\n",
       "  </tbody>\n",
       "</table>\n",
       "<p>5 rows × 21 columns</p>\n",
       "</div>"
      ],
      "text/plain": [
       "                      pm25         t2m         d2m       u10       v10  \\\n",
       "2016-01-01 08:00:00  106.0  266.158697  262.942797  0.610000 -0.854401   \n",
       "2016-01-01 14:00:00  172.0  277.572013  265.854378  0.539951  0.014327   \n",
       "2016-01-01 20:00:00  260.0  271.109503  266.588183  1.231592 -0.007235   \n",
       "2016-01-02 02:00:00  306.0  266.704619  264.173029  0.891609 -1.404387   \n",
       "2016-01-02 08:00:00  195.0  266.042011  262.649275  0.834297 -1.433449   \n",
       "\n",
       "                               sp        t500        t850       t1000  \\\n",
       "2016-01-01 08:00:00  99031.629452  247.480585  273.959647  273.713458   \n",
       "2016-01-01 14:00:00  98687.355922  247.663581  275.492070  277.549782   \n",
       "2016-01-01 20:00:00  98736.579464  249.138077  274.646867  279.338926   \n",
       "2016-01-02 02:00:00  98683.278232  247.929517  274.961514  277.894709   \n",
       "2016-01-02 08:00:00  98634.054690  246.955296  274.261128  276.341222   \n",
       "\n",
       "                         q500    ...        q1000       u500      u850  \\\n",
       "2016-01-01 08:00:00  0.000186    ...     0.001782  22.726637  9.640619   \n",
       "2016-01-01 14:00:00  0.000182    ...     0.001889  22.448769  9.815926   \n",
       "2016-01-01 20:00:00  0.000219    ...     0.002003  21.773777  7.522623   \n",
       "2016-01-02 02:00:00  0.000442    ...     0.001956  21.577004  7.068256   \n",
       "2016-01-02 08:00:00  0.000588    ...     0.001608  22.702786  5.349770   \n",
       "\n",
       "                        u1000      v500      v850     v1000      w500  \\\n",
       "2016-01-01 08:00:00  1.023143  0.605482 -0.931638 -0.915407 -0.059048   \n",
       "2016-01-01 14:00:00  0.449519  0.500462 -1.817629  0.066058  0.046678   \n",
       "2016-01-01 20:00:00  1.202028 -3.983918 -4.214963  0.149120 -0.120461   \n",
       "2016-01-02 02:00:00  1.506132 -4.629317 -2.406700 -2.123144 -0.105199   \n",
       "2016-01-02 08:00:00  1.060113 -6.598931 -1.580856 -2.603374  0.018822   \n",
       "\n",
       "                         w850     w1000  \n",
       "2016-01-01 08:00:00  0.167941  0.137051  \n",
       "2016-01-01 14:00:00  0.081981  0.016615  \n",
       "2016-01-01 20:00:00  0.238271  0.090715  \n",
       "2016-01-02 02:00:00 -0.051509  0.186144  \n",
       "2016-01-02 08:00:00 -0.022825  0.212162  \n",
       "\n",
       "[5 rows x 21 columns]"
      ]
     },
     "execution_count": 3,
     "metadata": {},
     "output_type": "execute_result"
    }
   ],
   "source": [
    "raw_data = pd.read_csv(\"raw_data_new.csv\", parse_dates=[0], index_col=0)\n",
    "raw_data.head()"
   ]
  },
  {
   "cell_type": "code",
   "execution_count": 4,
   "metadata": {
    "ExecuteTime": {
     "end_time": "2018-04-20T03:04:27.263975Z",
     "start_time": "2018-04-20T03:04:27.255028Z"
    }
   },
   "outputs": [
    {
     "data": {
      "text/plain": [
       "'t2m'"
      ]
     },
     "execution_count": 4,
     "metadata": {},
     "output_type": "execute_result"
    }
   ],
   "source": [
    "raw_data.columns.values[1]"
   ]
  },
  {
   "cell_type": "code",
   "execution_count": 5,
   "metadata": {
    "ExecuteTime": {
     "end_time": "2018-04-20T03:04:32.430942Z",
     "start_time": "2018-04-20T03:04:32.416382Z"
    }
   },
   "outputs": [
    {
     "data": {
      "text/plain": [
       "v850     0.278754\n",
       "v1000    0.255704\n",
       "v500     0.251433\n",
       "v10      0.247893\n",
       "u850     0.144769\n",
       "d2m      0.074900\n",
       "t850     0.066519\n",
       "t500     0.023324\n",
       "u500     0.013723\n",
       "q1000    0.012299\n",
       "q850     0.002476\n",
       "t1000   -0.019663\n",
       "sp      -0.052549\n",
       "u10     -0.053391\n",
       "q500    -0.056409\n",
       "w500    -0.059093\n",
       "t2m     -0.060261\n",
       "u1000   -0.073105\n",
       "w850    -0.161677\n",
       "w1000   -0.227673\n",
       "Name: pm25, dtype: float64"
      ]
     },
     "execution_count": 5,
     "metadata": {},
     "output_type": "execute_result"
    }
   ],
   "source": [
    "df_corr = raw_data.corr()\n",
    "df_corr['pm25'][1:].sort_values(ascending=False)"
   ]
  },
  {
   "cell_type": "code",
   "execution_count": 6,
   "metadata": {
    "ExecuteTime": {
     "end_time": "2018-04-20T03:04:33.043582Z",
     "start_time": "2018-04-20T03:04:33.021046Z"
    }
   },
   "outputs": [],
   "source": [
    "data = series_to_supervised(raw_data, 8, 1)"
   ]
  },
  {
   "cell_type": "code",
   "execution_count": 57,
   "metadata": {
    "ExecuteTime": {
     "end_time": "2018-04-20T00:42:59.260822Z",
     "start_time": "2018-04-20T00:42:59.075725Z"
    }
   },
   "outputs": [
    {
     "data": {
      "text/plain": [
       "pm25(t)       1.000000\n",
       "pm25(t-1)     0.735222\n",
       "pm25(t-2)     0.569053\n",
       "pm25(t-3)     0.477729\n",
       "pm25(t-4)     0.398215\n",
       "v850(t-1)     0.343191\n",
       "v1000(t-1)    0.341042\n",
       "v850(t-2)     0.337778\n",
       "v10(t-1)      0.330204\n",
       "v1000(t-2)    0.303273\n",
       "v850(t-3)     0.292876\n",
       "v10(t-2)      0.291343\n",
       "pm25(t-5)     0.289206\n",
       "v850(t)       0.282788\n",
       "v1000(t)      0.262030\n",
       "v10(t)        0.254534\n",
       "v500(t)       0.253504\n",
       "v1000(t-3)    0.252670\n",
       "v10(t-3)      0.248813\n",
       "v850(t-4)     0.238963\n",
       "v1000(t-4)    0.236651\n",
       "v10(t-4)      0.231681\n",
       "pm25(t-6)     0.207440\n",
       "v1000(t-5)    0.199546\n",
       "v500(t-1)     0.193336\n",
       "v10(t-5)      0.188202\n",
       "u850(t-1)     0.180257\n",
       "v850(t-5)     0.176640\n",
       "u850(t-2)     0.173814\n",
       "pm25(t-7)     0.173648\n",
       "                ...   \n",
       "t2m(t-3)     -0.101493\n",
       "t1000(t-7)   -0.102093\n",
       "d2m(t-8)     -0.102356\n",
       "w850(t-4)    -0.103347\n",
       "q500(t-3)    -0.105118\n",
       "t1000(t-8)   -0.106063\n",
       "t2m(t-6)     -0.107458\n",
       "q1000(t-7)   -0.109926\n",
       "q850(t-7)    -0.114944\n",
       "q1000(t-8)   -0.117222\n",
       "v500(t-7)    -0.119765\n",
       "q500(t-4)    -0.120867\n",
       "q850(t-8)    -0.121215\n",
       "t2m(t-8)     -0.125961\n",
       "w850(t-3)    -0.128538\n",
       "t2m(t-7)     -0.129551\n",
       "q500(t-5)    -0.133251\n",
       "q500(t-8)    -0.139019\n",
       "q500(t-6)    -0.140762\n",
       "w850(t-2)    -0.141209\n",
       "q500(t-7)    -0.146762\n",
       "v500(t-8)    -0.149788\n",
       "w850(t)      -0.160650\n",
       "w1000(t-5)   -0.165814\n",
       "w850(t-1)    -0.172271\n",
       "w1000(t-4)   -0.205387\n",
       "w1000(t-3)   -0.224522\n",
       "w1000(t)     -0.232893\n",
       "w1000(t-2)   -0.272307\n",
       "w1000(t-1)   -0.299210\n",
       "Name: pm25(t), Length: 188, dtype: float64"
      ]
     },
     "execution_count": 57,
     "metadata": {},
     "output_type": "execute_result"
    }
   ],
   "source": [
    "# Compute correlation with pm25\n",
    "data.corr()['pm25(t)'][1:].sort_values(ascending=False)\n"
   ]
  },
  {
   "cell_type": "markdown",
   "metadata": {},
   "source": [
    "# Feature Engineering\n",
    "Select most important features affecting pm2.5 of Beijing"
   ]
  },
  {
   "cell_type": "code",
   "execution_count": 9,
   "metadata": {
    "ExecuteTime": {
     "end_time": "2018-04-20T03:04:59.068678Z",
     "start_time": "2018-04-20T03:04:59.065463Z"
    }
   },
   "outputs": [],
   "source": [
    "from sklearn.feature_selection import SelectPercentile, f_regression"
   ]
  },
  {
   "cell_type": "code",
   "execution_count": 10,
   "metadata": {
    "ExecuteTime": {
     "end_time": "2018-04-20T03:04:59.557518Z",
     "start_time": "2018-04-20T03:04:59.552026Z"
    }
   },
   "outputs": [],
   "source": [
    "#(189: 21 * 8 + 21)\n",
    "X = data.iloc[:, :21*8]\n",
    "y = data.iloc[:, 21*8]"
   ]
  },
  {
   "cell_type": "code",
   "execution_count": 11,
   "metadata": {
    "ExecuteTime": {
     "end_time": "2018-04-20T03:05:00.074028Z",
     "start_time": "2018-04-20T03:05:00.061571Z"
    }
   },
   "outputs": [],
   "source": [
    "# Select top 20% features according to f_regression score. 根据f score选出最重要的20%因子 \n",
    "#TODO: f_regression只能衡量变量间的线性关系，mutual_info_regression可以衡量非线性关系。可尝试mutual_info_regression\n",
    "selector_f = SelectPercentile(f_regression, percentile=20)\n",
    "x_best = selector_f.fit_transform(X, y)"
   ]
  },
  {
   "cell_type": "code",
   "execution_count": 12,
   "metadata": {
    "ExecuteTime": {
     "end_time": "2018-04-20T03:05:00.763856Z",
     "start_time": "2018-04-20T03:05:00.752439Z"
    }
   },
   "outputs": [],
   "source": [
    "support = selector_f.get_support()\n",
    "# Column names of top 20%\n",
    "features = np.asarray(X.columns.values)\n",
    "features_with_support = features[support]\n",
    "\n",
    "#f-scores of top 20%\n",
    "fscores = np.asarray(selector_f.scores_)\n",
    "fscores_with_support = fscores[support]\n",
    "\n",
    "# p-values of top 20%\n",
    "pvalues = np.asarray(selector_f.pvalues_)\n",
    "pvalues_with_support = pvalues[support]"
   ]
  },
  {
   "cell_type": "code",
   "execution_count": 13,
   "metadata": {
    "ExecuteTime": {
     "end_time": "2018-04-20T03:05:01.343500Z",
     "start_time": "2018-04-20T03:05:01.331925Z"
    }
   },
   "outputs": [
    {
     "name": "stdout",
     "output_type": "stream",
     "text": [
      "Top 20% best associated features to pm25\n",
      "Number of features: 34\n",
      "                F-score        p-value\n",
      "pm25(t-1)   3127.188973   0.000000e+00\n",
      "pm25(t-2)   1272.915543  3.850773e-228\n",
      "pm25(t-3)    786.010643  9.655012e-152\n",
      "pm25(t-4)    500.926758  8.592816e-102\n",
      "v850(t-1)    354.854338   2.111024e-74\n",
      "v1000(t-1)   349.840338   1.943322e-73\n",
      "v850(t-2)    342.318003   5.469784e-72\n",
      "v10(t-1)     325.282004   1.082288e-68\n",
      "v1000(t-2)   269.230038   1.043752e-57\n",
      "w1000(t-1)   261.359886   3.787012e-56\n",
      "v850(t-3)    249.384987   9.117975e-54\n",
      "v10(t-2)     246.539010   3.368383e-53\n",
      "pm25(t-5)    242.606571   2.053797e-52\n",
      "w1000(t-2)   212.878215   1.925233e-46\n",
      "v1000(t-3)   181.264102   5.102390e-40\n",
      "v10(t-3)     175.410020   8.047242e-39\n",
      "v850(t-4)    160.972943   7.436753e-36\n",
      "v1000(t-4)   157.688580   3.535159e-35\n",
      "v10(t-4)     150.764029   9.521136e-34\n",
      "w1000(t-3)   141.102672   9.569315e-32\n",
      "pm25(t-6)    119.520796   3.034990e-27\n",
      "w1000(t-4)   117.063195   9.938629e-27\n",
      "v1000(t-5)   110.226906   2.711759e-25\n",
      "v500(t-1)    103.210403   8.156981e-24\n",
      "v10(t-5)      97.603402   1.247995e-22\n",
      "u850(t-1)     89.265854   7.303753e-21\n",
      "v850(t-5)     85.604875   4.383355e-20\n",
      "u850(t-2)     82.803684   1.730772e-19\n",
      "pm25(t-7)     82.640580   1.874969e-19\n",
      "w850(t-1)     81.295027   3.629212e-19\n",
      "w1000(t-5)    75.145904   7.465981e-18\n",
      "sp(t-8)       74.036499   1.289661e-17\n",
      "sp(t-7)       66.947431   4.273548e-16\n",
      "pm25(t-8)     62.049095   4.840413e-15\n"
     ]
    }
   ],
   "source": [
    "# Dataframe of top 20%\n",
    "top20 = pd.DataFrame({'F-score':fscores_with_support,\n",
    "                      'p-value':pvalues_with_support},\n",
    "                     index = features_with_support)\n",
    "# top20.index.name = 'Feature'\n",
    "print('Top 20% best associated features to pm25\\nNumber of features:',len(features_with_support))\n",
    "print(top20.sort_values(by = 'p-value', ascending = 'True'))"
   ]
  },
  {
   "cell_type": "markdown",
   "metadata": {},
   "source": [
    "p-value 均小于0.05，故而这些feature都有统计显著性"
   ]
  },
  {
   "cell_type": "markdown",
   "metadata": {},
   "source": [
    "## Feature to Feature Correlation\n",
    "reduce redundancy, colinearity （分析变量间的相关关系，减少冗余信息，减少共线性）"
   ]
  },
  {
   "cell_type": "code",
   "execution_count": 14,
   "metadata": {
    "ExecuteTime": {
     "end_time": "2018-04-20T03:05:04.308996Z",
     "start_time": "2018-04-20T03:05:02.884306Z"
    }
   },
   "outputs": [
    {
     "data": {
      "image/png": "[encoded data removed]",
      "text/plain": [
       "<matplotlib.figure.Figure at 0x11804b630>"
      ]
     },
     "metadata": {},
     "output_type": "display_data"
    }
   ],
   "source": [
    "\n",
    "best_feat = data[features_with_support]\n",
    "# 计算自变量间的相关系数\n",
    "corr =best_feat.corr() \n",
    "plt.figure(figsize=(12, 10))\n",
    "\n",
    "# 用heatmap画出大于0.7的相关系数\n",
    "sns.heatmap(corr[(corr >= 0.7) | (corr <= -0.7)], \n",
    "            cmap='coolwarm', vmax=1.0, vmin=-1.0, linewidths=0.1,\n",
    "            annot=True, annot_kws={\"size\": 8}, square=True);"
   ]
  },
  {
   "cell_type": "markdown",
   "metadata": {},
   "source": [
    "我们的目的是，对相关系数大于0.8的因子对，只保留其中一个因子。\n",
    "如何舍弃呢？用下面的与pm2.5的相关系数大小衡量。与pm2.5相关性高的保留，否则去掉"
   ]
  },
  {
   "cell_type": "code",
   "execution_count": 15,
   "metadata": {
    "ExecuteTime": {
     "end_time": "2018-04-20T03:05:30.514204Z",
     "start_time": "2018-04-20T03:05:30.491345Z"
    }
   },
   "outputs": [
    {
     "data": {
      "text/plain": [
       "pm25(t)       1.000000\n",
       "pm25(t-1)     0.735222\n",
       "pm25(t-2)     0.569053\n",
       "pm25(t-3)     0.477729\n",
       "pm25(t-4)     0.398215\n",
       "v850(t-1)     0.343191\n",
       "v1000(t-1)    0.341042\n",
       "v850(t-2)     0.337778\n",
       "v10(t-1)      0.330204\n",
       "v1000(t-2)    0.303273\n",
       "v850(t-3)     0.292876\n",
       "v10(t-2)      0.291343\n",
       "pm25(t-5)     0.289206\n",
       "v1000(t-3)    0.252670\n",
       "v10(t-3)      0.248813\n",
       "v850(t-4)     0.238963\n",
       "v1000(t-4)    0.236651\n",
       "v10(t-4)      0.231681\n",
       "pm25(t-6)     0.207440\n",
       "v1000(t-5)    0.199546\n",
       "v500(t-1)     0.193336\n",
       "v10(t-5)      0.188202\n",
       "u850(t-1)     0.180257\n",
       "v850(t-5)     0.176640\n",
       "u850(t-2)     0.173814\n",
       "pm25(t-7)     0.173648\n",
       "sp(t-8)       0.164619\n",
       "sp(t-7)       0.156743\n",
       "w1000(t-5)   -0.165814\n",
       "w850(t-1)    -0.172271\n",
       "w1000(t-4)   -0.205387\n",
       "w1000(t-3)   -0.224522\n",
       "w1000(t-2)   -0.272307\n",
       "w1000(t-1)   -0.299210\n",
       "Name: pm25(t), dtype: float64"
      ]
     },
     "execution_count": 15,
     "metadata": {},
     "output_type": "execute_result"
    }
   ],
   "source": [
    "# Correlation with pm25\n",
    "pd.concat([data[features_with_support], data['pm25(t)']], axis=1).corr()['pm25(t)'][1:].sort_values(ascending=False)"
   ]
  },
  {
   "cell_type": "code",
   "execution_count": 103,
   "metadata": {
    "ExecuteTime": {
     "end_time": "2018-04-20T01:14:22.275131Z",
     "start_time": "2018-04-20T01:14:22.269195Z"
    }
   },
   "outputs": [],
   "source": [
    "# v10(t-5) vs v1000(t-5) vs w1000(t-5): 保留 v1000(t-5)\n",
    "# sp(t-7) vs sp(t-8): drop sp(t-7)\n",
    "# v850(t-4) vs v850(t-5): drop v850(t-5)\n",
    "# v10(t-4) vs v1000(t-4) vs w1000(t-4):  保留v1000(t-4)\n",
    "# v10(t-3) vs v1000(t-3) vs w1000(t-3): 保留v1000(t-3)\n",
    "# v10(t-2) vs v1000(t-2) vs w1000(t-2): 保留v1000(t-2)\n",
    "# v850(t-1) vs v850(t-2): drop v850(t-2)\n",
    "# v850(t-1) vs v10(t-1) vs v1000(t-1): drop v10(t-1), v1000(t-1)\n",
    "# v850(t-1) vs w1000(t-1): drop w1000(t-1)\n",
    "# v850(t-3) vs v850(t-4): drop v850(t-4)\n",
    "best_feat = best_feat.drop(['v10(t-5)', 'w1000(t-5)', 'sp(t-7)', 'v850(t-5)', 'v10(t-4)', 'w1000(t-4)',\n",
    "                           'v10(t-3)', 'w1000(t-3)', 'v10(t-2)', 'w1000(t-2)', 'v850(t-2)', 'v10(t-1)', 'v1000(t-1)', 'w1000(t-1)', 'v850(t-4)'], axis=1)"
   ]
  },
  {
   "cell_type": "code",
   "execution_count": 104,
   "metadata": {
    "ExecuteTime": {
     "end_time": "2018-04-20T01:14:23.093554Z",
     "start_time": "2018-04-20T01:14:22.504698Z"
    }
   },
   "outputs": [
    {
     "data": {
      "image/png": "[encoded data removed]",
      "text/plain": [
       "<matplotlib.figure.Figure at 0x1a26354710>"
      ]
     },
     "metadata": {},
     "output_type": "display_data"
    }
   ],
   "source": [
    "corr =best_feat.corr() # We already examined SalePrice correlations\n",
    "plt.figure(figsize=(12, 10))\n",
    "\n",
    "sns.heatmap(corr[(corr >= 0.7) | (corr <= -0.7)], \n",
    "            cmap='coolwarm', vmax=1.0, vmin=-1.0, linewidths=0.1,\n",
    "            annot=True, annot_kws={\"size\": 8}, square=True);"
   ]
  },
  {
   "cell_type": "code",
   "execution_count": 208,
   "metadata": {
    "ExecuteTime": {
     "end_time": "2018-04-20T02:22:22.443191Z",
     "start_time": "2018-04-20T02:22:22.416454Z"
    }
   },
   "outputs": [
    {
     "data": {
      "text/plain": [
       "Index(['pm25(t-8)', 'sp(t-8)', 'pm25(t-7)', 'pm25(t-6)', 'pm25(t-5)',\n",
       "       'v1000(t-5)', 'pm25(t-4)', 'v1000(t-4)', 'pm25(t-3)', 'v850(t-3)',\n",
       "       'v1000(t-3)', 'pm25(t-2)', 'u850(t-2)', 'v1000(t-2)', 'pm25(t-1)',\n",
       "       'u850(t-1)', 'v500(t-1)', 'v850(t-1)', 'w850(t-1)'],\n",
       "      dtype='object')"
      ]
     },
     "execution_count": 208,
     "metadata": {},
     "output_type": "execute_result"
    }
   ],
   "source": [
    "# These are the most important features affecting pm2.5!\n",
    "best_feat.columns"
   ]
  },
  {
   "cell_type": "markdown",
   "metadata": {},
   "source": [
    "## Preprocessing"
   ]
  },
  {
   "cell_type": "code",
   "execution_count": 7,
   "metadata": {
    "ExecuteTime": {
     "end_time": "2018-04-20T03:04:44.528426Z",
     "start_time": "2018-04-20T03:04:44.184997Z"
    }
   },
   "outputs": [
    {
     "ename": "NameError",
     "evalue": "name 'best_feat' is not defined",
     "output_type": "error",
     "traceback": [
      "\u001b[0;31m---------------------------------------------------------------------------\u001b[0m",
      "\u001b[0;31mNameError\u001b[0m                                 Traceback (most recent call last)",
      "\u001b[0;32m<ipython-input-7-8c5b50a32a4e>\u001b[0m in \u001b[0;36m<module>\u001b[0;34m()\u001b[0m\n\u001b[1;32m      1\u001b[0m \u001b[0;31m# normalize data\u001b[0m\u001b[0;34m\u001b[0m\u001b[0;34m\u001b[0m\u001b[0m\n\u001b[0;32m----> 2\u001b[0;31m \u001b[0mtrain_data\u001b[0m \u001b[0;34m=\u001b[0m \u001b[0mpd\u001b[0m\u001b[0;34m.\u001b[0m\u001b[0mconcat\u001b[0m\u001b[0;34m(\u001b[0m\u001b[0;34m[\u001b[0m\u001b[0mbest_feat\u001b[0m\u001b[0;34m,\u001b[0m \u001b[0mdata\u001b[0m\u001b[0;34m[\u001b[0m\u001b[0;34m'pm25(t)'\u001b[0m\u001b[0;34m]\u001b[0m\u001b[0;34m]\u001b[0m\u001b[0;34m,\u001b[0m \u001b[0maxis\u001b[0m\u001b[0;34m=\u001b[0m\u001b[0;36m1\u001b[0m\u001b[0;34m)\u001b[0m\u001b[0;34m\u001b[0m\u001b[0m\n\u001b[0m\u001b[1;32m      3\u001b[0m \u001b[0mvalues\u001b[0m \u001b[0;34m=\u001b[0m \u001b[0mtrain_data\u001b[0m\u001b[0;34m.\u001b[0m\u001b[0mvalues\u001b[0m\u001b[0;34m\u001b[0m\u001b[0m\n\u001b[1;32m      4\u001b[0m \u001b[0;34m\u001b[0m\u001b[0m\n\u001b[1;32m      5\u001b[0m \u001b[0mscaler\u001b[0m \u001b[0;34m=\u001b[0m \u001b[0mMinMaxScaler\u001b[0m\u001b[0;34m(\u001b[0m\u001b[0mfeature_range\u001b[0m\u001b[0;34m=\u001b[0m\u001b[0;34m(\u001b[0m\u001b[0;36m0\u001b[0m\u001b[0;34m,\u001b[0m \u001b[0;36m1\u001b[0m\u001b[0;34m)\u001b[0m\u001b[0;34m)\u001b[0m\u001b[0;34m\u001b[0m\u001b[0m\n",
      "\u001b[0;31mNameError\u001b[0m: name 'best_feat' is not defined"
     ]
    }
   ],
   "source": [
    "# normalize data\n",
    "train_data = pd.concat([best_feat, data['pm25(t)']], axis=1)\n",
    "values = train_data.values\n",
    "\n",
    "scaler = MinMaxScaler(feature_range=(0, 1))\n",
    "scaled = scaler.fit_transform(values)\n",
    "\n",
    "train, test = train_test_split(scaled, test_size=0.2)\n",
    "train_X = train[:, :19]\n",
    "train_y = train[:,19]\n",
    "test_X = test[:, :19]\n",
    "test_y = test[:,19]\n",
    "\n",
    "reg = linear_model.LinearRegression()\n",
    "reg.fit(train_X, train_y)\n",
    "y_predict1 = reg.predict(test_X)\n",
    "\n"
   ]
  },
  {
   "cell_type": "code",
   "execution_count": null,
   "metadata": {},
   "outputs": [],
   "source": [
    "## Training (Linear regression, Random Forest, SVR)"
   ]
  },
  {
   "cell_type": "code",
   "execution_count": 198,
   "metadata": {
    "ExecuteTime": {
     "end_time": "2018-04-20T02:07:55.366829Z",
     "start_time": "2018-04-20T02:07:54.891468Z"
    },
    "scrolled": true
   },
   "outputs": [
    {
     "name": "stdout",
     "output_type": "stream",
     "text": [
      "0\n",
      "1\n",
      "2\n",
      "3\n",
      "4\n",
      "Linear regression: 48.721833\n",
      "SVR: 49.408390\n"
     ]
    }
   ],
   "source": [
    "rmse_list1 = []\n",
    "rmse_list2 = []\n",
    "rmse_list3 = []\n",
    "for i in range(5):\n",
    "    print(i)\n",
    "    train, test = train_test_split(scaled, test_size=0.2)\n",
    "    train_X = train[:, :19]\n",
    "    train_y = train[:,19]\n",
    "    test_X = test[:, :19]\n",
    "    test_y = test[:,19]\n",
    "    # linear regression\n",
    "    reg = linear_model.LinearRegression()\n",
    "    reg.fit(train_X, train_y)\n",
    "    y_predict1 = reg.predict(test_X)\n",
    "    \n",
    "    # random forest\n",
    "#     rforest = RandomForestRegressor(n_estimators = 300, random_state = 0) \n",
    "#     rforest.fit(train_X, train_y)\n",
    "#     y_predict2 = rforest.predict(test_X)\n",
    "    \n",
    "    #SVR\n",
    "    clf = svm.SVR(kernel='rbf', C=1e5, gamma=1e-6)\n",
    "    clf.fit(train_X, train_y)\n",
    "    y_predict3 = clf.predict(test_X)\n",
    "    \n",
    "    RMSE1 = math.sqrt(mean_squared_error(inv_normalization(y_predict1), inv_normalization(test_y)))\n",
    "#     RMSE2 = math.sqrt(mean_squared_error(y_predict2, test_y))\n",
    "    RMSE3 = math.sqrt(mean_squared_error(inv_normalization(y_predict3), inv_normalization(test_y)))\n",
    "    \n",
    "    rmse_list1.append(RMSE1)\n",
    "#     rmse_list2.append(RMSE2)\n",
    "    rmse_list3.append(RMSE3)\n",
    "\n",
    "print(\"Linear regression: {a:f}\".format(a=np.mean(rmse_list1)))\n",
    "# print(\"Random Forest: {a:f}\".format(a=np.mean(rmse_list2)))\n",
    "print(\"SVR: {a:f}\".format(a=np.mean(rmse_list3)))"
   ]
  },
  {
   "cell_type": "code",
   "execution_count": 155,
   "metadata": {
    "ExecuteTime": {
     "end_time": "2018-04-20T01:40:09.124711Z",
     "start_time": "2018-04-20T01:40:09.117495Z"
    }
   },
   "outputs": [
    {
     "data": {
      "text/plain": [
       "(2660, 20)"
      ]
     },
     "execution_count": 155,
     "metadata": {},
     "output_type": "execute_result"
    }
   ],
   "source": [
    "scaled.shape"
   ]
  },
  {
   "cell_type": "code",
   "execution_count": 158,
   "metadata": {
    "ExecuteTime": {
     "end_time": "2018-04-20T01:44:17.484067Z",
     "start_time": "2018-04-20T01:44:17.478818Z"
    }
   },
   "outputs": [
    {
     "name": "stdout",
     "output_type": "stream",
     "text": [
      "Linear regression: 44.428244\n",
      "Random Forest: 45.035786\n",
      "SVR: 62.875748\n"
     ]
    }
   ],
   "source": [
    "print(\"Linear regression: {a:f}\".format(a=np.mean(rmse_list1)))\n",
    "print(\"Random Forest: {a:f}\".format(a=np.mean(rmse_list2)))\n",
    "print(\"SVR: {a:f}\".format(a=np.mean(rmse_list3)))"
   ]
  },
  {
   "cell_type": "code",
   "execution_count": 186,
   "metadata": {
    "ExecuteTime": {
     "end_time": "2018-04-20T02:06:18.516629Z",
     "start_time": "2018-04-20T02:06:18.510877Z"
    }
   },
   "outputs": [],
   "source": [
    "# inverse transform\n",
    "def inv_normalization(y):\n",
    "    return scaler.inverse_transform(np.concatenate((test_X, y.reshape((len(y), 1))), axis=1))[:, -1]\n",
    "    "
   ]
  },
  {
   "cell_type": "code",
   "execution_count": 170,
   "metadata": {
    "ExecuteTime": {
     "end_time": "2018-04-20T01:48:07.701730Z",
     "start_time": "2018-04-20T01:48:07.697468Z"
    }
   },
   "outputs": [
    {
     "data": {
      "text/plain": [
       "(532,)"
      ]
     },
     "execution_count": 170,
     "metadata": {},
     "output_type": "execute_result"
    }
   ],
   "source": [
    "test_y.shape"
   ]
  },
  {
   "cell_type": "code",
   "execution_count": 207,
   "metadata": {
    "ExecuteTime": {
     "end_time": "2018-04-20T02:16:43.573489Z",
     "start_time": "2018-04-20T02:15:06.408311Z"
    }
   },
   "outputs": [
    {
     "name": "stdout",
     "output_type": "stream",
     "text": [
      "0\n",
      "1\n",
      "2\n",
      "3\n",
      "4\n",
      "Linear regression: 46.323526\n",
      "SVR: 72.665301\n"
     ]
    }
   ],
   "source": [
    "rmse_list1 = []\n",
    "rmse_list2 = []\n",
    "rmse_list3 = []\n",
    "for i in range(5):\n",
    "    print(i)\n",
    "    train, test = train_test_split(data.values, test_size=0.2)\n",
    "    train_X = train[:, :21*8]\n",
    "    train_y = train[:,21*8]\n",
    "    test_X = test[:, :21*8]\n",
    "    test_y = test[:,21*8]\n",
    "    # linear regression\n",
    "    reg = linear_model.LinearRegression()\n",
    "    reg.fit(train_X, train_y)\n",
    "    y_predict1 = reg.predict(test_X)\n",
    "    \n",
    "    # random forest\n",
    "#     rforest = RandomForestRegressor(n_estimators = 300, random_state = 0) \n",
    "#     rforest.fit(train_X, train_y)\n",
    "#     y_predict2 = rforest.predict(test_X)\n",
    "    \n",
    "    #SVR\n",
    "    clf = svm.SVR(kernel='rbf', C=1e5, gamma=1e-6)\n",
    "    clf.fit(train_X, train_y)\n",
    "    y_predict3 = clf.predict(test_X)\n",
    "    \n",
    "    RMSE1 = math.sqrt(mean_squared_error(y_predict1, test_y))\n",
    "#     RMSE2 = math.sqrt(mean_squared_error(y_predict2, test_y))\n",
    "    RMSE3 = math.sqrt(mean_squared_error(y_predict3, test_y))\n",
    "    \n",
    "    rmse_list1.append(RMSE1)\n",
    "#     rmse_list2.append(RMSE2)\n",
    "    rmse_list3.append(RMSE3)\n",
    "\n",
    "print(\"Linear regression: {a:f}\".format(a=np.mean(rmse_list1)))\n",
    "# print(\"Random Forest: {a:f}\".format(a=np.mean(rmse_list2)))\n",
    "print(\"SVR: {a:f}\".format(a=np.mean(rmse_list3)))"
   ]
  },
  {
   "cell_type": "code",
   "execution_count": 206,
   "metadata": {
    "ExecuteTime": {
     "end_time": "2018-04-20T02:14:26.311587Z",
     "start_time": "2018-04-20T02:14:26.303886Z"
    }
   },
   "outputs": [
    {
     "data": {
      "text/plain": [
       "array([178., 119., 239., ...,  12.,  55.,  66.])"
      ]
     },
     "execution_count": 206,
     "metadata": {},
     "output_type": "execute_result"
    }
   ],
   "source": [
    "data.values[:,21*8]"
   ]
  },
  {
   "cell_type": "markdown",
   "metadata": {},
   "source": [
    "## LSTM"
   ]
  },
  {
   "cell_type": "code",
   "execution_count": 211,
   "metadata": {
    "ExecuteTime": {
     "end_time": "2018-04-20T02:47:10.255563Z",
     "start_time": "2018-04-20T02:47:10.198862Z"
    }
   },
   "outputs": [
    {
     "ename": "NameError",
     "evalue": "name 'Sequential' is not defined",
     "output_type": "error",
     "traceback": [
      "\u001b[0;31m---------------------------------------------------------------------------\u001b[0m",
      "\u001b[0;31mNameError\u001b[0m                                 Traceback (most recent call last)",
      "\u001b[0;32m<ipython-input-211-36b3c2dacaeb>\u001b[0m in \u001b[0;36m<module>\u001b[0;34m()\u001b[0m\n\u001b[1;32m      1\u001b[0m \u001b[0;31m# design network\u001b[0m\u001b[0;34m\u001b[0m\u001b[0;34m\u001b[0m\u001b[0m\n\u001b[0;32m----> 2\u001b[0;31m \u001b[0mmodel\u001b[0m \u001b[0;34m=\u001b[0m \u001b[0mSequential\u001b[0m\u001b[0;34m(\u001b[0m\u001b[0;34m)\u001b[0m\u001b[0;34m\u001b[0m\u001b[0m\n\u001b[0m\u001b[1;32m      3\u001b[0m \u001b[0mmodel\u001b[0m\u001b[0;34m.\u001b[0m\u001b[0madd\u001b[0m\u001b[0;34m(\u001b[0m\u001b[0mLSTM\u001b[0m\u001b[0;34m(\u001b[0m\u001b[0;36m50\u001b[0m\u001b[0;34m,\u001b[0m \u001b[0minput_shape\u001b[0m\u001b[0;34m=\u001b[0m\u001b[0;34m(\u001b[0m\u001b[0mtrain_X\u001b[0m\u001b[0;34m.\u001b[0m\u001b[0mshape\u001b[0m\u001b[0;34m[\u001b[0m\u001b[0;36m1\u001b[0m\u001b[0;34m]\u001b[0m\u001b[0;34m,\u001b[0m \u001b[0mtrain_X\u001b[0m\u001b[0;34m.\u001b[0m\u001b[0mshape\u001b[0m\u001b[0;34m[\u001b[0m\u001b[0;36m2\u001b[0m\u001b[0;34m]\u001b[0m\u001b[0;34m)\u001b[0m\u001b[0;34m)\u001b[0m\u001b[0;34m)\u001b[0m\u001b[0;34m\u001b[0m\u001b[0m\n\u001b[1;32m      4\u001b[0m \u001b[0mmodel\u001b[0m\u001b[0;34m.\u001b[0m\u001b[0madd\u001b[0m\u001b[0;34m(\u001b[0m\u001b[0mDense\u001b[0m\u001b[0;34m(\u001b[0m\u001b[0mpredict_hours\u001b[0m\u001b[0;34m)\u001b[0m\u001b[0;34m)\u001b[0m\u001b[0;34m\u001b[0m\u001b[0m\n\u001b[1;32m      5\u001b[0m \u001b[0mmodel\u001b[0m\u001b[0;34m.\u001b[0m\u001b[0mcompile\u001b[0m\u001b[0;34m(\u001b[0m\u001b[0mloss\u001b[0m\u001b[0;34m=\u001b[0m\u001b[0;34m'mae'\u001b[0m\u001b[0;34m,\u001b[0m \u001b[0moptimizer\u001b[0m\u001b[0;34m=\u001b[0m\u001b[0;34m'adam'\u001b[0m\u001b[0;34m)\u001b[0m\u001b[0;34m\u001b[0m\u001b[0m\n",
      "\u001b[0;31mNameError\u001b[0m: name 'Sequential' is not defined"
     ]
    }
   ],
   "source": [
    "# design network\n",
    "model = Sequential()\n",
    "model.add(LSTM(50, input_shape=(train_X.shape[1], train_X.shape[2])))\n",
    "model.add(Dense(predict_hours))\n",
    "model.compile(loss='mae', optimizer='adam')\n",
    "# fit network\n",
    "history = model.fit(train_X, train_y, epochs=100, batch_size=72, validation_data=(test_X, test_y), verbose=2, shuffle=False)"
   ]
  },
  {
   "cell_type": "code",
   "execution_count": null,
   "metadata": {},
   "outputs": [],
   "source": []
  }
 ],
 "metadata": {
  "kernelspec": {
   "display_name": "Python 3",
   "language": "python",
   "name": "python3"
  },
  "language_info": {
   "codemirror_mode": {
    "name": "ipython",
    "version": 3
   },
   "file_extension": ".py",
   "mimetype": "text/x-python",
   "name": "python",
   "nbconvert_exporter": "python",
   "pygments_lexer": "ipython3",
   "version": "3.6.4"
  }
 },
 "nbformat": 4,
 "nbformat_minor": 2
}
